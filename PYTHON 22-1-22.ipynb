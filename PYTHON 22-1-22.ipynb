{
 "cells": [
  {
   "cell_type": "code",
   "execution_count": 20,
   "metadata": {},
   "outputs": [
    {
     "name": "stdout",
     "output_type": "stream",
     "text": [
      "[1, 23, 4, 4, 4, 4, 2]\n"
     ]
    }
   ],
   "source": [
    "# Telesco python series\n",
    "str=\"Avinash\"\n",
    "lists=[1,23,4,4,4,4,2]\n",
    "tuple=(\"a\",\"v\",\"i\")\n",
    "set={\"Avinash\",\"Akash\"}\n",
    "dictionary={\"name\":\"Avinash\",\"rollno\":124}\n",
    "print(lists)"
   ]
  },
  {
   "cell_type": "code",
   "execution_count": 31,
   "metadata": {},
   "outputs": [
    {
     "name": "stdout",
     "output_type": "stream",
     "text": [
      "('apple', 'banana', 'cherry')\n",
      "banana\n"
     ]
    },
    {
     "ename": "AttributeError",
     "evalue": "'tuple' object has no attribute 'append'",
     "output_type": "error",
     "traceback": [
      "\u001b[1;31m---------------------------------------------------------------------------\u001b[0m",
      "\u001b[1;31mAttributeError\u001b[0m                            Traceback (most recent call last)",
      "\u001b[1;32m~\\AppData\\Local\\Temp/ipykernel_13160/3451558311.py\u001b[0m in \u001b[0;36m<module>\u001b[1;34m\u001b[0m\n\u001b[0;32m      3\u001b[0m \u001b[0mprint\u001b[0m\u001b[1;33m(\u001b[0m\u001b[0mx\u001b[0m\u001b[1;33m)\u001b[0m\u001b[1;33m\u001b[0m\u001b[1;33m\u001b[0m\u001b[0m\n\u001b[0;32m      4\u001b[0m \u001b[0mprint\u001b[0m\u001b[1;33m(\u001b[0m\u001b[0mx\u001b[0m\u001b[1;33m[\u001b[0m\u001b[1;36m1\u001b[0m\u001b[1;33m]\u001b[0m\u001b[1;33m)\u001b[0m\u001b[1;33m\u001b[0m\u001b[1;33m\u001b[0m\u001b[0m\n\u001b[1;32m----> 5\u001b[1;33m \u001b[0mx\u001b[0m\u001b[1;33m.\u001b[0m\u001b[0mappend\u001b[0m\u001b[1;33m(\u001b[0m\u001b[1;34m\"mango\"\u001b[0m\u001b[1;33m)\u001b[0m\u001b[1;33m\u001b[0m\u001b[1;33m\u001b[0m\u001b[0m\n\u001b[0m\u001b[0;32m      6\u001b[0m \u001b[0mprint\u001b[0m\u001b[1;33m(\u001b[0m\u001b[0mx\u001b[0m\u001b[1;33m)\u001b[0m\u001b[1;33m\u001b[0m\u001b[1;33m\u001b[0m\u001b[0m\n",
      "\u001b[1;31mAttributeError\u001b[0m: 'tuple' object has no attribute 'append'"
     ]
    }
   ],
   "source": [
    "#x=[\"apple\",\"banana\",\"cherry\"] #list\n",
    "x=(\"apple\",\"banana\",\"cherry\") #tuple\n",
    "print(x)\n",
    "print(x[1])\n",
    "x.append(\"mango\")\n",
    "print(x)"
   ]
  },
  {
   "cell_type": "code",
   "execution_count": 17,
   "metadata": {},
   "outputs": [
    {
     "ename": "NameError",
     "evalue": "name 'byte' is not defined",
     "output_type": "error",
     "traceback": [
      "\u001b[1;31m---------------------------------------------------------------------------\u001b[0m",
      "\u001b[1;31mNameError\u001b[0m                                 Traceback (most recent call last)",
      "\u001b[1;32m~\\AppData\\Local\\Temp/ipykernel_13160/3734241656.py\u001b[0m in \u001b[0;36m<module>\u001b[1;34m\u001b[0m\n\u001b[0;32m     11\u001b[0m \u001b[1;31m#x=True  #bool\u001b[0m\u001b[1;33m\u001b[0m\u001b[1;33m\u001b[0m\u001b[0m\n\u001b[0;32m     12\u001b[0m \u001b[0mx\u001b[0m\u001b[1;33m=\u001b[0m\u001b[1;34mb\"Avinash\"\u001b[0m   \u001b[1;31m#bytes\u001b[0m\u001b[1;33m\u001b[0m\u001b[1;33m\u001b[0m\u001b[0m\n\u001b[1;32m---> 13\u001b[1;33m \u001b[0mx\u001b[0m\u001b[1;33m=\u001b[0m\u001b[0mbyte\u001b[0m\u001b[1;33m\u001b[0m\u001b[1;33m\u001b[0m\u001b[0m\n\u001b[0m\u001b[0;32m     14\u001b[0m \u001b[0mx\u001b[0m\u001b[1;33m=\u001b[0m\u001b[1;36m1101111111111\u001b[0m\u001b[1;33m\u001b[0m\u001b[1;33m\u001b[0m\u001b[0m\n\u001b[0;32m     15\u001b[0m \u001b[1;33m\u001b[0m\u001b[0m\n",
      "\u001b[1;31mNameError\u001b[0m: name 'byte' is not defined"
     ]
    }
   ],
   "source": [
    "#data types \n",
    "# x=\"Avinash Khamanekar\" #str\n",
    "# x=20 #int \n",
    "# x=20.5 #float\n",
    "# x=1j   # complex\n",
    "\n",
    "#x={\"name\":\"Avinash\",\"rollno\":124} #dic\n",
    "#x=frozenset({\"apple\",\"banana\",\"cherry\"})  \n",
    "#x=True  #bool\n",
    "x=b\"Avinash\"   #bytes\n",
    "x=byte\n",
    "x=1101111111111\n",
    "\n",
    "\n",
    "print(x)"
   ]
  },
  {
   "cell_type": "code",
   "execution_count": 27,
   "metadata": {},
   "outputs": [
    {
     "name": "stdout",
     "output_type": "stream",
     "text": [
      "o\n",
      "e\n",
      "Youtube\n",
      "Yout\n",
      "utu\n",
      "my Youtube\n",
      "18\n",
      "7\n"
     ]
    }
   ],
   "source": [
    "#4 variable\n",
    "name=\"Youtube\"\n",
    "print(name[1])     # o\n",
    "print(name[-1])    #  e\n",
    "print(name[0:])     # all \n",
    "print(name[:4])\n",
    "print(name[2:5])\n",
    "print(\"my \"+name)\n",
    "print(len( \" length is \"+name))\n",
    "print(len(name))"
   ]
  },
  {
   "cell_type": "code",
   "execution_count": null,
   "metadata": {},
   "outputs": [
    {
     "name": "stdout",
     "output_type": "stream",
     "text": [
      "Avinash\n",
      "Avinash Khamanekar\n"
     ]
    }
   ],
   "source": [
    "name=\"Avinash\"\n",
    "print(name[0:])\n",
    "print(name+\" Khamanekar\")"
   ]
  },
  {
   "cell_type": "code",
   "execution_count": null,
   "metadata": {},
   "outputs": [
    {
     "name": "stdout",
     "output_type": "stream",
     "text": [
      "<class 'list'>\n",
      "list[4]\n",
      "list[-1]\n",
      "list[slice(0, None, None)]\n",
      "list[slice(None, 4, None)]\n",
      "[['Avinash ', 'akash', 'vijay']]\n",
      "12\n",
      "[25, 77, 29, 12, 14, 36]\n",
      "193\n",
      "77\n",
      "[12, 14, 25, 29, 36, 77]\n"
     ]
    }
   ],
   "source": [
    "#5 list \n",
    "\n",
    "nums=[25,12,36,95,14]\n",
    "print(list)\n",
    "print(list[4])\n",
    "print(list[-1])\n",
    "print(list[0:])\n",
    "print(list[:4])\n",
    "\n",
    "\n",
    "names=[\"Avinash \", \"akash\",\"vijay\"]\n",
    "print([names])\n",
    "\n",
    "#list ar emuteable\n",
    "# appened\n",
    "#insert\n",
    "nums.insert(2,77)\n",
    "#remove\n",
    "nums.remove(14)\n",
    "#pop\n",
    "nums.pop(1)\n",
    "#del mul\n",
    "\n",
    "del nums[2:]\n",
    "# add mul value\n",
    "nums.extend([29,12,14,36])\n",
    "print(min(nums))\n",
    "print(nums)\n",
    "\n",
    "print(sum(nums))\n",
    "print(max(nums))\n",
    "nums.sort()\n",
    "print(nums)\n",
    "\n",
    "\n",
    "\n",
    "\n",
    "\n",
    "\n"
   ]
  },
  {
   "cell_type": "code",
   "execution_count": null,
   "metadata": {},
   "outputs": [
    {
     "name": "stdout",
     "output_type": "stream",
     "text": [
      "{22, 55, 24, 25, 14}\n",
      "{55, 24, 25, 14}\n",
      "{55, 24, 25, 14}\n"
     ]
    }
   ],
   "source": [
    "#6 tuple\n",
    "\n",
    "#tapule is immuteable\n",
    "tup=(21,36,14,25)\n",
    "\n",
    "\n",
    "\n",
    "# set \n",
    "#UNIQUE VALUE\n",
    "s={22,24,25,14,25,55}\n",
    "print(s)\n",
    "s.remove(22)\n",
    "print(s)\n",
    "#s.update(22)\n",
    "print(s)"
   ]
  },
  {
   "cell_type": "code",
   "execution_count": null,
   "metadata": {},
   "outputs": [
    {
     "name": "stdout",
     "output_type": "stream",
     "text": [
      "Avinash\n",
      "Navin\n",
      "Not found\n",
      "{'navin': 'Python', 'kiran': 'java', 'harsh': 'Js'}\n",
      "{'navin': 'Python', 'kiran': 'java'}\n"
     ]
    }
   ],
   "source": [
    "#7 dictonaries \n",
    "# diiferent keys \n",
    "data={name:\"Avinash\",1:\"Navin\"}\n",
    "print(data[name])\n",
    "print(data.get(1))\n",
    "print(data.get(3,\"Not found\"))\n",
    "\n",
    "\n",
    "keys=['navin',\"kiran\",\"harsh\"]\n",
    "values=[\"Python\",\"java\",\"Js\"]\n",
    "data=dict(zip(keys,values))\n",
    "print(data)\n",
    "del data[\"harsh\"]\n",
    "print(data)"
   ]
  },
  {
   "cell_type": "code",
   "execution_count": null,
   "metadata": {},
   "outputs": [
    {
     "name": "stdout",
     "output_type": "stream",
     "text": [
      "2245312315760\n",
      "2245398803184\n",
      "2245312315920\n",
      "2245312315920\n"
     ]
    },
    {
     "data": {
      "text/plain": [
       "float"
      ]
     },
     "execution_count": 7,
     "metadata": {},
     "output_type": "execute_result"
    }
   ],
   "source": [
    "#9MORE ABOUT VARIABLE\n",
    "\n",
    "num=5\n",
    "print(id(num))\n",
    "name=(\"Avinash\")\n",
    "print(id(name))\n",
    "# same  name value same address\n",
    "a=10\n",
    "b=10\n",
    "print(id(a))\n",
    "print(id(b))\n",
    "pi=3.14\n",
    "type(pi)"
   ]
  },
  {
   "cell_type": "code",
   "execution_count": null,
   "metadata": {},
   "outputs": [
    {
     "name": "stdout",
     "output_type": "stream",
     "text": [
      "range(0, 10)\n",
      "[0, 1, 2, 3, 4, 5, 6, 7, 8, 9]\n",
      "(13+0j)\n",
      "13.0\n",
      "True\n",
      "False\n",
      "True\n",
      "False\n"
     ]
    }
   ],
   "source": [
    "#(10)----> data types \n",
    "#  None \n",
    "# numeric type-int,flost,complex,bool\n",
    "#LIST   [4,3,345,5,]\n",
    "# Tuple   ()\n",
    "# Set  {}\n",
    "# String     \"\"\n",
    "# Range   (range(10) )\n",
    "print(range(10))\n",
    "print(list(range(10)))\n",
    "\n",
    "# Dictionary  (key , value)\n",
    "\n",
    "\n",
    "a=13\n",
    "b=complex(a)\n",
    "print(b)\n",
    "c=float(a)\n",
    "print(c)\n",
    "d=bool(a)\n",
    "print(d)\n",
    "print(10<9)\n",
    "print(bool(1))\n",
    "print(bool(0))\n",
    "\n",
    "\n"
   ]
  },
  {
   "cell_type": "code",
   "execution_count": null,
   "metadata": {},
   "outputs": [
    {
     "name": "stdout",
     "output_type": "stream",
     "text": [
      "4\n",
      "12\n",
      "Sum is \n",
      "-7\n",
      "True\n",
      "False\n",
      "True\n",
      "True\n",
      "False\n"
     ]
    }
   ],
   "source": [
    "#11-----> Arithmetic opretor\n",
    "2+3\n",
    "21-3\n",
    "1*3\n",
    "5/1\n",
    "5//1\n",
    "x=2\n",
    "x+=2\n",
    "print(x)\n",
    "x*=3\n",
    "print(x)\n",
    "c,d=input(),input()\n",
    "print(\"Sum is\",c+d)\n",
    "\n",
    "\n",
    "\n",
    "#unary opretor \n",
    "n=7\n",
    "\n",
    "n=-7\n",
    "print(n)\n",
    "\n",
    "# retional opretors\n",
    "'''5<7\n",
    "4>3\n",
    "a=6\n",
    "a==b\n",
    "a>=b\n",
    "a<=b\n",
    "a!=b'''\n",
    "\n",
    "\n",
    "\n",
    "#LOGICAL OPRETORS\n",
    "#OR AND NOT\n",
    "X=5\n",
    "Y=4\n",
    "\n",
    "print(X>Y and Y<X)\n",
    "print(X>Y and Y>X)\n",
    "print(X>Y or Y<X)\n",
    "print(X>Y or Y>X)\n",
    "print(not(X>Y and Y<X))\n",
    "\n",
    "\n",
    "\n"
   ]
  },
  {
   "cell_type": "code",
   "execution_count": 18,
   "metadata": {},
   "outputs": [
    {
     "name": "stdout",
     "output_type": "stream",
     "text": [
      "25\n",
      "0b11001\n",
      "0o31\n",
      "0x19\n"
     ]
    }
   ],
   "source": [
    "#12----->binary  divide 2\n",
    "#  , decimal   \n",
    "# ,octal, 8\n",
    "#  hexadecimal 16\n",
    "print(25)\n",
    "print(bin(25))\n",
    "print(oct(25))\n",
    "print(hex(25))\n"
   ]
  },
  {
   "cell_type": "code",
   "execution_count": null,
   "metadata": {},
   "outputs": [
    {
     "name": "stdout",
     "output_type": "stream",
     "text": [
      "6\n",
      "5\n"
     ]
    }
   ],
   "source": [
    "#13-------> swap to values \n",
    "a=5\n",
    "b=6\n",
    "temp=a\n",
    "a=b\n",
    "b=temp\n",
    "#a,b=b,a\n",
    "print(a)\n",
    "print(b)"
   ]
  },
  {
   "cell_type": "code",
   "execution_count": null,
   "metadata": {},
   "outputs": [],
   "source": [
    "#14 IDLE commend"
   ]
  },
  {
   "cell_type": "code",
   "execution_count": null,
   "metadata": {},
   "outputs": [
    {
     "data": {
      "text/plain": [
       "'0b1100'"
      ]
     },
     "execution_count": 56,
     "metadata": {},
     "output_type": "execute_result"
    }
   ],
   "source": [
    "#15------->Bitwise operators \n",
    " #complement opratot\n",
    "~1100\n",
    "#2's comp,lement\n",
    "~(~1100)\n",
    "# logical opretor\n",
    "bin(12)\n",
    "#ex or "
   ]
  },
  {
   "cell_type": "code",
   "execution_count": null,
   "metadata": {},
   "outputs": [
    {
     "name": "stdout",
     "output_type": "stream",
     "text": [
      "5.0\n",
      "2\n",
      "3\n",
      "9.0\n",
      "3.141592653589793\n",
      "2.718281828459045\n"
     ]
    }
   ],
   "source": [
    "#16 mathematical function\n",
    "# ask fo r things .\n",
    "import math as m \n",
    "#import math \n",
    "# from math import sqrt,pow\n",
    "x=math.sqrt(25)\n",
    "print(x)\n",
    "# floor and ceil\n",
    "print(math.floor(2.6))\n",
    "print(math.ceil(2.6))\n",
    "print(math.pow(3,2))\n",
    "print(math.pi)\n",
    "print(m.e)\n"
   ]
  },
  {
   "cell_type": "code",
   "execution_count": null,
   "metadata": {},
   "outputs": [],
   "source": []
  },
  {
   "cell_type": "code",
   "execution_count": null,
   "metadata": {},
   "outputs": [],
   "source": []
  },
  {
   "cell_type": "code",
   "execution_count": null,
   "metadata": {},
   "outputs": [],
   "source": [
    "#  working with pycharm "
   ]
  },
  {
   "cell_type": "code",
   "execution_count": null,
   "metadata": {},
   "outputs": [
    {
     "name": "stdout",
     "output_type": "stream",
     "text": [
      " The sum is  2\n",
      "a\n",
      "22\n"
     ]
    }
   ],
   "source": [
    "# input from user \n",
    "x= int(input(\"Enter the first value \"))\n",
    "y= int(input(\" Enter the second value\"))\n",
    "z=x+y\n",
    "print(\" The sum is \",z)\n",
    "ch=input(\"Enter ch\")[0]\n",
    "print(ch)\n",
    "\n",
    "# evaluate function\n",
    "result=eval(input(\" enter expresstion\"))\n",
    "print(result)\n"
   ]
  },
  {
   "cell_type": "code",
   "execution_count": null,
   "metadata": {},
   "outputs": [
    {
     "name": "stdout",
     "output_type": "stream",
     "text": [
      " no is even\n"
     ]
    }
   ],
   "source": [
    "# if elif else \n",
    "# arithematic operation conditons \n",
    "no=int(input(\" Enter a number\"))\n",
    "if no %2 ==0:\n",
    "    print(\" no is even\")\n",
    "elif(no==0):\n",
    "          print(\"NO is zero\")\n",
    "else:\n",
    "    print(\"its odd number\")\n"
   ]
  },
  {
   "cell_type": "code",
   "execution_count": null,
   "metadata": {},
   "outputs": [
    {
     "name": "stdout",
     "output_type": "stream",
     "text": [
      "TeluskorocksrocksrocksTeluskoTeluskoTeluskoTelusko"
     ]
    }
   ],
   "source": [
    "#20 loops\n",
    "#while loop\n",
    "i=1 \n",
    "j=3 #5\n",
    "while i<=5:#i>=1\n",
    "    print(\"Telusko\",end=\"\")\n",
    "    i=i+1\n",
    "    while j<=5:\n",
    "        print(\"rocks\",end=\"\")\n",
    "        j=j+1\n",
    "     #i=i-1\n"
   ]
  },
  {
   "cell_type": "code",
   "execution_count": null,
   "metadata": {},
   "outputs": [
    {
     "name": "stdout",
     "output_type": "stream",
     "text": [
      "Avinash\n",
      "Avinash\n",
      "Avinash\n",
      "Avinash\n",
      "Avinash\n"
     ]
    }
   ],
   "source": [
    "i=1\n",
    "while i<=5:\n",
    "    print(\"Avinash\")\n",
    "    i+=1"
   ]
  },
  {
   "cell_type": "code",
   "execution_count": null,
   "metadata": {},
   "outputs": [
    {
     "name": "stdout",
     "output_type": "stream",
     "text": [
      "Avinash\n",
      "Avinash\n",
      "Avinash\n",
      "Avinash\n",
      "Avinash\n"
     ]
    }
   ],
   "source": [
    "for i in range(1,6):\n",
    "    print(\"Avinash\")"
   ]
  },
  {
   "cell_type": "code",
   "execution_count": null,
   "metadata": {},
   "outputs": [
    {
     "name": "stdout",
     "output_type": "stream",
     "text": [
      "20\n",
      "19\n",
      "18\n",
      "17\n",
      "16\n",
      "15\n",
      "14\n",
      "13\n",
      "12\n",
      "11\n"
     ]
    }
   ],
   "source": [
    "#for loops \n",
    "x=[1,3,4,5,6,7,88,56]\n",
    "#for i in x:\n",
    "for x in range(20,10,-1) :    # start end itretion \n",
    "    print(x)"
   ]
  },
  {
   "cell_type": "code",
   "execution_count": null,
   "metadata": {},
   "outputs": [],
   "source": []
  },
  {
   "cell_type": "code",
   "execution_count": null,
   "metadata": {},
   "outputs": [
    {
     "name": "stdout",
     "output_type": "stream",
     "text": [
      "1\n",
      "2\n",
      "3\n",
      "4\n",
      "6\n",
      "7\n",
      "8\n",
      "9\n",
      "11\n",
      "12\n",
      "13\n",
      "14\n",
      "16\n",
      "17\n",
      "18\n",
      "19\n"
     ]
    }
   ],
   "source": [
    "# if inside a for \n",
    "for i in range(1,21):\n",
    "    if(i%5!=0):\n",
    "        print(i)\n"
   ]
  },
  {
   "cell_type": "code",
   "execution_count": null,
   "metadata": {},
   "outputs": [
    {
     "name": "stdout",
     "output_type": "stream",
     "text": [
      "Candy\n",
      "Candy\n",
      "Candy\n",
      "Candy\n",
      "Candy\n",
      "Bye\n"
     ]
    }
   ],
   "source": [
    "#22 break \n",
    "av=5\n",
    "x=int(input(\" how many candi you want? \"))\n",
    "i=1\n",
    "while i<=x:\n",
    "    if i>av:\n",
    "        print(\" Out of stock\")\n",
    "        break\n",
    "    print(\"Candy\")\n",
    "    i+=1\n",
    "print(\"Bye\") "
   ]
  },
  {
   "cell_type": "code",
   "execution_count": null,
   "metadata": {},
   "outputs": [
    {
     "name": "stdout",
     "output_type": "stream",
     "text": [
      "You are entering value 3 \n"
     ]
    }
   ],
   "source": [
    "x=int(input(\"How many Avinash you want to print\"))\n",
    "i=1\n",
    "while i<=x:\n",
    "    if x==3:\n",
    "        print(\"You are entering value 3 \")\n",
    "        break\n",
    "    print(\"Avinash\")\n",
    "    i+=1"
   ]
  },
  {
   "cell_type": "code",
   "execution_count": null,
   "metadata": {},
   "outputs": [
    {
     "name": "stdout",
     "output_type": "stream",
     "text": [
      "1\n",
      "2\n",
      "3\n",
      "4\n",
      "5\n",
      "6\n",
      "7\n",
      "8\n",
      "9\n",
      "10\n",
      "11\n",
      "12\n",
      "13\n",
      "14\n",
      "15\n",
      "16\n",
      "17\n",
      "18\n",
      "19\n",
      "20\n",
      "21\n",
      "22\n",
      "23\n",
      "24\n",
      "25\n",
      "26\n",
      "27\n",
      "28\n",
      "29\n",
      "30\n",
      "31\n",
      "32\n",
      "33\n",
      "34\n",
      "35\n",
      "36\n",
      "37\n",
      "38\n",
      "39\n",
      "40\n",
      "41\n",
      "42\n",
      "43\n",
      "44\n",
      "45\n",
      "46\n",
      "47\n",
      "48\n",
      "49\n",
      "50\n",
      "51\n",
      "52\n",
      "53\n",
      "54\n",
      "55\n",
      "56\n",
      "57\n",
      "58\n",
      "59\n",
      "60\n",
      "61\n",
      "62\n",
      "63\n",
      "64\n",
      "65\n",
      "66\n",
      "67\n",
      "68\n",
      "69\n",
      "70\n",
      "71\n",
      "72\n",
      "73\n",
      "74\n",
      "75\n",
      "76\n",
      "77\n",
      "78\n",
      "79\n",
      "80\n",
      "81\n",
      "82\n",
      "83\n",
      "84\n",
      "85\n",
      "86\n",
      "87\n",
      "88\n",
      "89\n",
      "90\n",
      "91\n",
      "92\n",
      "93\n",
      "94\n",
      "95\n",
      "96\n",
      "97\n",
      "98\n",
      "99\n",
      "100\n"
     ]
    }
   ],
   "source": [
    "\n",
    "#ALL NTHE VALUES FROM 1 TO  100\n",
    "\n",
    "for i in  range(1,101):\n",
    "    #if i%3==0 or i%5==0:\n",
    "     #   continue\n",
    "    \n",
    "    print(i)\n"
   ]
  },
  {
   "cell_type": "code",
   "execution_count": null,
   "metadata": {},
   "outputs": [
    {
     "name": "stdout",
     "output_type": "stream",
     "text": [
      "2\n",
      "4\n",
      "6\n",
      "8\n",
      "10\n",
      "12\n",
      "14\n",
      "16\n",
      "18\n",
      "20\n",
      "22\n",
      "24\n",
      "26\n",
      "28\n",
      "30\n",
      "32\n",
      "34\n",
      "36\n",
      "38\n",
      "40\n",
      "42\n",
      "44\n",
      "46\n",
      "48\n",
      "50\n",
      "52\n",
      "54\n",
      "56\n",
      "58\n",
      "60\n",
      "62\n",
      "64\n",
      "66\n",
      "68\n",
      "70\n",
      "72\n",
      "74\n",
      "76\n",
      "78\n",
      "80\n",
      "82\n",
      "84\n",
      "86\n",
      "88\n",
      "90\n",
      "92\n",
      "94\n",
      "96\n",
      "98\n",
      "100\n"
     ]
    }
   ],
   "source": [
    "# print even  no in 1 to 100\n",
    "for i in  range(1,101):\n",
    "    if i%2!=0:\n",
    "        pass\n",
    "    else:\n",
    "     print(i)\n"
   ]
  },
  {
   "cell_type": "code",
   "execution_count": null,
   "metadata": {},
   "outputs": [],
   "source": [
    "\n",
    "\n",
    "\n",
    "\n"
   ]
  },
  {
   "cell_type": "code",
   "execution_count": null,
   "metadata": {},
   "outputs": [
    {
     "name": "stdout",
     "output_type": "stream",
     "text": [
      " Hello 0\n",
      " Hello 1\n",
      " Hello 2\n",
      " Hello 4\n",
      " Hello 5\n"
     ]
    }
   ],
   "source": [
    "#22.1 break , pass , continue\n",
    "for i in range(6):\n",
    "    if i==3:\n",
    "        continue   #break then don't rub program \n",
    "                   # continue in that case print value expect that\n",
    "                   #pass is make that pass the value\n",
    "    print(\" Hello\",i)\n",
    "def fun():\n",
    "    print( \"pass\")\n",
    "a=5"
   ]
  },
  {
   "cell_type": "code",
   "execution_count": null,
   "metadata": {},
   "outputs": [
    {
     "name": "stdout",
     "output_type": "stream",
     "text": [
      "# # # # \n",
      "# # # \n",
      "# # \n",
      "# \n"
     ]
    }
   ],
   "source": [
    "#24--------> printing patterns \n",
    "# print(\"# # # #\")\n",
    "# print(\"    #  \")\n",
    "# print(\"  #    \")\n",
    "# print(\"# # # #\")\n",
    "for i in range(4):\n",
    "    for j in range (4-i):\n",
    "        print(\"#\",end=' ')\n",
    "    print()\n",
    "    #count"
   ]
  },
  {
   "cell_type": "code",
   "execution_count": null,
   "metadata": {},
   "outputs": [
    {
     "name": "stdout",
     "output_type": "stream",
     "text": [
      "prime\n"
     ]
    }
   ],
   "source": [
    "#find prime number \n",
    "no=int(input(\"Enter a number\"))\n",
    "for i in range(2,no):\n",
    "    if no%i==0:\n",
    "        print(\"Not prime\")\n",
    "        break\n",
    "else:\n",
    "    print(\"prime\")\n",
    "\n"
   ]
  },
  {
   "cell_type": "code",
   "execution_count": null,
   "metadata": {},
   "outputs": [
    {
     "name": "stdout",
     "output_type": "stream",
     "text": [
      "0\n",
      "1\n",
      "2\n",
      "3\n",
      "4\n",
      "5\n"
     ]
    }
   ],
   "source": [
    "no=int(input(\"Enter a number\"))\n",
    "count=0\n",
    "for i in range(0,no):\n",
    "    \n",
    "    count=count+1\n",
    "    print(i)\n",
    "print(count)\n",
    "\n"
   ]
  },
  {
   "cell_type": "code",
   "execution_count": null,
   "metadata": {},
   "outputs": [
    {
     "name": "stdout",
     "output_type": "stream",
     "text": [
      "array('i', [1, 3, -4, 56, 65, 34])\n",
      "(1550720656688, 6)\n",
      "array('i', [34, 65, 56, -4, 3, 1])\n",
      "34\n",
      "34\n",
      "65\n",
      "56\n",
      "-4\n",
      "3\n"
     ]
    }
   ],
   "source": [
    "#Array \n",
    "#array have same data in one array\n",
    "#import array as arr\n",
    "from array import *\n",
    "vals= array(\"i\",[1,3,-4,56,65,34])      #type , array \n",
    "print(vals)\n",
    "\n",
    "print(vals.buffer_info())\n",
    "vals.reverse()\n",
    "print(vals)\n",
    "print(vals[0])\n"
   ]
  },
  {
   "cell_type": "code",
   "execution_count": null,
   "metadata": {},
   "outputs": [
    {
     "name": "stdout",
     "output_type": "stream",
     "text": [
      "array('u', 'afke')\n",
      "a\n",
      "f\n",
      "k\n",
      "e\n"
     ]
    }
   ],
   "source": [
    "from array import *\n",
    "#vals= array(\"i\",[1,3,-4,56,65,34])  \n",
    "vals=array(\"u\",[\"a\",\"f\",\"k\",\"e\"])    #type , array \n",
    "print(vals)\n",
    "for i in range(len(vals)):\n",
    "    print(vals[i])"
   ]
  },
  {
   "cell_type": "code",
   "execution_count": null,
   "metadata": {},
   "outputs": [
    {
     "name": "stdout",
     "output_type": "stream",
     "text": [
      "array('i', [1, 3, -4, 56, 65, 34])\n",
      "1\n",
      "3\n",
      "-4\n",
      "56\n",
      "65\n",
      "34\n",
      "1\n",
      "3\n",
      "-4\n",
      "56\n",
      "65\n",
      "34\n"
     ]
    }
   ],
   "source": [
    "from array import *\n",
    "vals= array(\"i\",[1,3,-4,56,65,34])      #type , array \n",
    "newArr=array(vals.typecode,(a for a in vals))\n",
    "print(newArr)\n",
    "for e in newArr:\n",
    "    print(e)\n",
    "i=0\n",
    "while i<len(newArr):\n",
    "    print(newArr[i])\n",
    "    i+=1"
   ]
  },
  {
   "cell_type": "code",
   "execution_count": null,
   "metadata": {},
   "outputs": [
    {
     "name": "stdout",
     "output_type": "stream",
     "text": [
      "array('i', [23, 23, 43])\n"
     ]
    }
   ],
   "source": [
    "# 27------> create array enter a value from user \n",
    "from array import  *\n",
    "arr = array(\"i\",[])\n",
    "n=int(input(\"Enter the length of array\"))\n",
    "for i in range(n):\n",
    "    x=int(input(\"Enter the next value\"))\n",
    "    arr.append(x)\n",
    "print(arr)"
   ]
  },
  {
   "cell_type": "code",
   "execution_count": null,
   "metadata": {},
   "outputs": [
    {
     "name": "stdout",
     "output_type": "stream",
     "text": [
      "['fa', 'asdf', 'sadf']\n"
     ]
    }
   ],
   "source": [
    "# above same code creaate for list \n",
    "arr=[]\n",
    "n=int(input(\"Enter the length of list\"))\n",
    "for i in range(n):\n",
    "    x=input(\"Enter the next value\")\n",
    "    arr.append(x)\n",
    "print(arr)\n"
   ]
  },
  {
   "cell_type": "code",
   "execution_count": null,
   "metadata": {},
   "outputs": [
    {
     "name": "stdout",
     "output_type": "stream",
     "text": [
      "2\n",
      "2\n"
     ]
    }
   ],
   "source": [
    "# print index value by manual\n",
    "from array import  *\n",
    "arr = array(\"i\",[3,43,543,23,34,33])\n",
    "val =int(input(\"search\"))\n",
    "k=0\n",
    "for e in arr:\n",
    "    if e==val:\n",
    "        print(k)\n",
    "        break\n",
    "    k+=1\n",
    "print(arr.index(val))"
   ]
  },
  {
   "cell_type": "code",
   "execution_count": null,
   "metadata": {},
   "outputs": [
    {
     "name": "stdout",
     "output_type": "stream",
     "text": [
      "3\n"
     ]
    }
   ],
   "source": [
    "# enter index and show value on that topic\n",
    "# print index value by manual\n",
    "from array import  *\n",
    "arr = array(\"i\",[3,43,543,23,34,33])\n",
    "ind =int(input(\"search\"))\n",
    "\n",
    "print(arr[ind])"
   ]
  },
  {
   "cell_type": "code",
   "execution_count": null,
   "metadata": {},
   "outputs": [
    {
     "ename": "TypeError",
     "evalue": "Field elements must be 2- or 3-tuples, got '1'",
     "output_type": "error",
     "traceback": [
      "\u001b[1;31m---------------------------------------------------------------------------\u001b[0m",
      "\u001b[1;31mTypeError\u001b[0m                                 Traceback (most recent call last)",
      "\u001b[1;32m~\\AppData\\Local\\Temp/ipykernel_14104/3011406697.py\u001b[0m in \u001b[0;36m<module>\u001b[1;34m\u001b[0m\n\u001b[0;32m      5\u001b[0m \u001b[1;31m# so we can use numpy\u001b[0m\u001b[1;33m\u001b[0m\u001b[1;33m\u001b[0m\u001b[0m\n\u001b[0;32m      6\u001b[0m \u001b[1;32mfrom\u001b[0m \u001b[0mnumpy\u001b[0m \u001b[1;32mimport\u001b[0m \u001b[1;33m*\u001b[0m\u001b[1;33m\u001b[0m\u001b[1;33m\u001b[0m\u001b[0m\n\u001b[1;32m----> 7\u001b[1;33m \u001b[0marr\u001b[0m\u001b[1;33m=\u001b[0m\u001b[0marray\u001b[0m\u001b[1;33m(\u001b[0m\u001b[1;34m\"i\"\u001b[0m\u001b[1;33m,\u001b[0m\u001b[1;33m[\u001b[0m\u001b[1;36m1\u001b[0m\u001b[1;33m,\u001b[0m\u001b[1;36m2\u001b[0m\u001b[1;33m,\u001b[0m\u001b[1;36m3\u001b[0m\u001b[1;33m,\u001b[0m\u001b[1;36m4\u001b[0m\u001b[1;33m,\u001b[0m\u001b[1;36m5\u001b[0m\u001b[1;33m]\u001b[0m\u001b[1;33m)\u001b[0m\u001b[1;33m\u001b[0m\u001b[1;33m\u001b[0m\u001b[0m\n\u001b[0m\u001b[0;32m      8\u001b[0m \u001b[0mprint\u001b[0m\u001b[1;33m(\u001b[0m\u001b[0marr\u001b[0m\u001b[1;33m)\u001b[0m\u001b[1;33m\u001b[0m\u001b[1;33m\u001b[0m\u001b[0m\n",
      "\u001b[1;31mTypeError\u001b[0m: Field elements must be 2- or 3-tuples, got '1'"
     ]
    }
   ],
   "source": [
    "# Numpy \n",
    "#Array ----> single dimentional array \n",
    "#      ----->Two dimentional array. but phthon have not 2d\n",
    "# how do  use 2d\n",
    "# so we can use numpy\n",
    "from numpy import *\n",
    "arr=array([1,2,3,4,5])\n",
    "print(arr)"
   ]
  },
  {
   "cell_type": "code",
   "execution_count": null,
   "metadata": {},
   "outputs": [],
   "source": [
    "# continution after numpy , array "
   ]
  },
  {
   "cell_type": "code",
   "execution_count": null,
   "metadata": {},
   "outputs": [
    {
     "name": "stdout",
     "output_type": "stream",
     "text": [
      "Hello,Good morning\n"
     ]
    }
   ],
   "source": [
    "# function \n",
    "# inbulid function \n",
    "def great():\n",
    "    print(\"Hello,Good morning\")\n",
    "great()"
   ]
  },
  {
   "cell_type": "code",
   "execution_count": null,
   "metadata": {},
   "outputs": [
    {
     "name": "stdout",
     "output_type": "stream",
     "text": [
      "Hello,Good morning Avinash\n"
     ]
    }
   ],
   "source": [
    "# function with parameter \n",
    "def great(name):\n",
    "    print(\"Hello,Good morning\",name)\n",
    "great(\"Avinash\")"
   ]
  },
  {
   "cell_type": "code",
   "execution_count": null,
   "metadata": {},
   "outputs": [
    {
     "data": {
      "text/plain": [
       "9"
      ]
     },
     "execution_count": 3,
     "metadata": {},
     "output_type": "execute_result"
    }
   ],
   "source": [
    "# add to numbers with return\n",
    "def add(a,b):\n",
    "    return a+b\n",
    "add(4,5)\n"
   ]
  },
  {
   "cell_type": "code",
   "execution_count": null,
   "metadata": {},
   "outputs": [
    {
     "name": "stdout",
     "output_type": "stream",
     "text": [
      "9\n"
     ]
    }
   ],
   "source": [
    "def add(a,b):\n",
    "    return a+b\n",
    "result=add(4,5) \n",
    "print(result)"
   ]
  },
  {
   "cell_type": "code",
   "execution_count": null,
   "metadata": {},
   "outputs": [
    {
     "data": {
      "text/plain": [
       "(9, -1)"
      ]
     },
     "execution_count": 5,
     "metadata": {},
     "output_type": "execute_result"
    }
   ],
   "source": [
    "# return multiple values\n",
    "def add(a,b):\n",
    "    return a+b,a-b\n",
    "    \n",
    "add(4,5)"
   ]
  },
  {
   "cell_type": "code",
   "execution_count": null,
   "metadata": {},
   "outputs": [
    {
     "name": "stdout",
     "output_type": "stream",
     "text": [
      "0\n",
      "10\n"
     ]
    }
   ],
   "source": [
    "#  -------> function arguments \n",
    "#pass br reference \n",
    "# pass by vaalue\n",
    "def update(x):\n",
    "    x=8\n",
    "    print(x)\n",
    "a=10\n",
    "update(a)\n",
    "print(a)"
   ]
  },
  {
   "cell_type": "code",
   "execution_count": null,
   "metadata": {},
   "outputs": [
    {
     "name": "stdout",
     "output_type": "stream",
     "text": [
      "11\n"
     ]
    }
   ],
   "source": [
    "# tyes of aguments\n",
    "def add(a,b):\n",
    "    print(a+b)\n",
    "\n",
    "add(5,6)\n"
   ]
  },
  {
   "cell_type": "code",
   "execution_count": null,
   "metadata": {},
   "outputs": [
    {
     "name": "stdout",
     "output_type": "stream",
     "text": [
      "21 Avinash\n"
     ]
    }
   ],
   "source": [
    "# by postion , sequence\n",
    "def person(name,age):\n",
    "    print(name, age)\n",
    "person(21,\"Avinash\")\n"
   ]
  },
  {
   "cell_type": "code",
   "execution_count": null,
   "metadata": {},
   "outputs": [
    {
     "name": "stdout",
     "output_type": "stream",
     "text": [
      "Avinash 18\n"
     ]
    }
   ],
   "source": [
    "# default value\n",
    "def person(name,age=18):\n",
    "    print(name, age)\n",
    "person(\"Avinash\")"
   ]
  },
  {
   "cell_type": "code",
   "execution_count": null,
   "metadata": {},
   "outputs": [],
   "source": [
    "# addtion with tuple\n",
    "def add(a,*b):\n",
    "    print(a)\n",
    "    print(b)\n",
    "\n",
    "add(5,6,3,5,6,7)"
   ]
  },
  {
   "cell_type": "code",
   "execution_count": null,
   "metadata": {},
   "outputs": [
    {
     "name": "stdout",
     "output_type": "stream",
     "text": [
      "Avinash\n",
      "{'age': 21, 'city': 'Kalamb', 'mono': 9822500813}\n",
      "age 21\n",
      "city Kalamb\n",
      "mono 9822500813\n"
     ]
    }
   ],
   "source": [
    "#Keywords\n",
    "# single * for multiple variable\n",
    "# double ** for multiple variables with key words\n",
    "def person(name,**data):\n",
    "    print(name)\n",
    "    print(data)\n",
    "    for i,j in data .items():\n",
    "        print(i,j)\n",
    "person(\"Avinash\",age=21,city=\"Kalamb\",mono=9822500813)\n"
   ]
  },
  {
   "cell_type": "code",
   "execution_count": null,
   "metadata": {},
   "outputs": [
    {
     "name": "stdout",
     "output_type": "stream",
     "text": [
      "10\n",
      "10\n"
     ]
    }
   ],
   "source": [
    "#Global vaiables \n",
    "# scope\n",
    "a=10 # global variable  \n",
    "def fun():\n",
    "    a=15  # local variable\n",
    "    #--------> if inside function not declare then global variable print\n",
    "\n",
    "    print(a)\n",
    "print(a)\n",
    "fun()"
   ]
  },
  {
   "cell_type": "code",
   "execution_count": null,
   "metadata": {},
   "outputs": [
    {
     "name": "stdout",
     "output_type": "stream",
     "text": [
      "10\n",
      "15\n"
     ]
    }
   ],
   "source": [
    "# set global variable\n",
    "\n",
    "a=10 # global variable  \n",
    "def fun():\n",
    "    #global a\n",
    "    a=15  \n",
    "    print(a)\n",
    "print(a)\n",
    "fun()"
   ]
  },
  {
   "cell_type": "code",
   "execution_count": null,
   "metadata": {},
   "outputs": [
    {
     "name": "stdout",
     "output_type": "stream",
     "text": [
      "0 1\n"
     ]
    }
   ],
   "source": [
    "# pass a list \n",
    "# \n",
    "def count(lis):\n",
    "    even=0\n",
    "    odd=0\n",
    "    for i in lis:\n",
    "     if i%2==2:\n",
    "        even+=1\n",
    "     else:\n",
    "        odd=+1\n",
    "\n",
    "    return even, odd\n",
    "\n",
    "lis=[25,23,54,34,54,65,87,46]\n",
    "even, odd=count(lis)\n",
    "print(even,odd)\n",
    "\n"
   ]
  },
  {
   "cell_type": "code",
   "execution_count": null,
   "metadata": {},
   "outputs": [
    {
     "name": "stdout",
     "output_type": "stream",
     "text": [
      "0\n",
      "1\n"
     ]
    },
    {
     "ename": "TypeError",
     "evalue": "'str' object cannot be interpreted as an integer",
     "output_type": "error",
     "traceback": [
      "\u001b[1;31m---------------------------------------------------------------------------\u001b[0m",
      "\u001b[1;31mTypeError\u001b[0m                                 Traceback (most recent call last)",
      "\u001b[1;32m~\\AppData\\Local\\Temp/ipykernel_3772/2056095723.py\u001b[0m in \u001b[0;36m<module>\u001b[1;34m\u001b[0m\n\u001b[0;32m     16\u001b[0m          \u001b[0mb\u001b[0m\u001b[1;33m=\u001b[0m\u001b[0mc\u001b[0m\u001b[1;33m\u001b[0m\u001b[1;33m\u001b[0m\u001b[0m\n\u001b[0;32m     17\u001b[0m          \u001b[0mprint\u001b[0m\u001b[1;33m(\u001b[0m\u001b[0mc\u001b[0m\u001b[1;33m)\u001b[0m\u001b[1;33m\u001b[0m\u001b[1;33m\u001b[0m\u001b[0m\n\u001b[1;32m---> 18\u001b[1;33m \u001b[0mfib\u001b[0m\u001b[1;33m(\u001b[0m\u001b[0mn\u001b[0m\u001b[1;33m)\u001b[0m\u001b[1;33m\u001b[0m\u001b[1;33m\u001b[0m\u001b[0m\n\u001b[0m",
      "\u001b[1;32m~\\AppData\\Local\\Temp/ipykernel_3772/2056095723.py\u001b[0m in \u001b[0;36mfib\u001b[1;34m(n)\u001b[0m\n\u001b[0;32m     11\u001b[0m       \u001b[0mprint\u001b[0m\u001b[1;33m(\u001b[0m\u001b[0ma\u001b[0m\u001b[1;33m)\u001b[0m\u001b[1;33m\u001b[0m\u001b[1;33m\u001b[0m\u001b[0m\n\u001b[0;32m     12\u001b[0m       \u001b[0mprint\u001b[0m\u001b[1;33m(\u001b[0m\u001b[0mb\u001b[0m\u001b[1;33m)\u001b[0m\u001b[1;33m\u001b[0m\u001b[1;33m\u001b[0m\u001b[0m\n\u001b[1;32m---> 13\u001b[1;33m       \u001b[1;32mfor\u001b[0m \u001b[0mi\u001b[0m \u001b[1;32min\u001b[0m \u001b[0mrange\u001b[0m\u001b[1;33m(\u001b[0m\u001b[1;36m2\u001b[0m\u001b[1;33m,\u001b[0m\u001b[0mn\u001b[0m\u001b[1;33m)\u001b[0m\u001b[1;33m:\u001b[0m\u001b[1;33m\u001b[0m\u001b[1;33m\u001b[0m\u001b[0m\n\u001b[0m\u001b[0;32m     14\u001b[0m          \u001b[0mc\u001b[0m\u001b[1;33m=\u001b[0m\u001b[0ma\u001b[0m\u001b[1;33m+\u001b[0m\u001b[0mb\u001b[0m\u001b[1;33m\u001b[0m\u001b[1;33m\u001b[0m\u001b[0m\n\u001b[0;32m     15\u001b[0m          \u001b[0ma\u001b[0m \u001b[1;33m=\u001b[0m\u001b[0mb\u001b[0m\u001b[1;33m\u001b[0m\u001b[1;33m\u001b[0m\u001b[0m\n",
      "\u001b[1;31mTypeError\u001b[0m: 'str' object cannot be interpreted as an integer"
     ]
    }
   ],
   "source": [
    "# fibonacci series\n",
    "# 0 1 1 2 3 5 8 13 21 33.......\n",
    "n=input(\"Enter value of n\") \n",
    "def fib(n):\n",
    "  \n",
    "  a=0\n",
    "  b=1\n",
    "  if n==1:\n",
    "    print(a)\n",
    "  else:\n",
    "      print(a)\n",
    "      print(b)\n",
    "      for i in range(2,n):\n",
    "         c=a+b\n",
    "         a =b\n",
    "         b=c\n",
    "         print(c) \n",
    "fib(n)"
   ]
  },
  {
   "cell_type": "code",
   "execution_count": null,
   "metadata": {},
   "outputs": [
    {
     "name": "stdout",
     "output_type": "stream",
     "text": [
      "24\n"
     ]
    }
   ],
   "source": [
    "# factorial of number \n",
    "def fact(n):\n",
    "    f=1   \n",
    "    for i in range(1,n+1):\n",
    "       f=f*i\n",
    "    return f \n",
    "x=4\n",
    "\n",
    "result=fact(x)\n",
    "print(result)"
   ]
  },
  {
   "cell_type": "code",
   "execution_count": null,
   "metadata": {},
   "outputs": [],
   "source": [
    "#recursion \n",
    "#what is recursion ---->\n",
    "#   \n",
    "#                        you are calling from itself\n",
    "import sys\n",
    "sys.setrecursionlimit(180)\n",
    "print(sys.getrecursionlimit())\n",
    "i=0\n",
    "def greet():\n",
    "    print(\"Hello\",i)\n",
    "    greet()\n",
    "greet()"
   ]
  },
  {
   "cell_type": "code",
   "execution_count": null,
   "metadata": {},
   "outputs": [
    {
     "name": "stdout",
     "output_type": "stream",
     "text": [
      "120\n"
     ]
    }
   ],
   "source": [
    "# Recurtion = function calling itself\n",
    "# factorial byu using recursion\n",
    "def fact(n):\n",
    "    if n==0:\n",
    "        return 1\n",
    "    return n* fact(n-1)  # function calling itself\n",
    "result= fact(5)\n",
    "print(result)\n"
   ]
  },
  {
   "cell_type": "code",
   "execution_count": null,
   "metadata": {},
   "outputs": [
    {
     "name": "stdout",
     "output_type": "stream",
     "text": [
      "25\n"
     ]
    }
   ],
   "source": [
    "#Anonymous function \n",
    "#Lambda\n",
    "#def square(a):\n",
    "  #  return a*a\n",
    "f=lambda a: a*a\n",
    "result = f(5)\n",
    "print(result)\n",
    "\n",
    "\n"
   ]
  },
  {
   "cell_type": "code",
   "execution_count": null,
   "metadata": {},
   "outputs": [
    {
     "name": "stdout",
     "output_type": "stream",
     "text": [
      "5\n"
     ]
    }
   ],
   "source": [
    "# by using anonymous function \n",
    "add=lambda a,b :a+b\n",
    "addition =add(2,3)\n",
    "print(addition)"
   ]
  },
  {
   "cell_type": "code",
   "execution_count": null,
   "metadata": {},
   "outputs": [
    {
     "name": "stdout",
     "output_type": "stream",
     "text": [
      "[2, 6, 8, 4]\n"
     ]
    }
   ],
   "source": [
    "#lamada ---> anonoymous function \n",
    "#  filter()\n",
    "#  map()\n",
    "#  reduce()\n",
    "nums= [3,2,6,8,4,7,9]\n",
    "evens=list(filter(lambda n:n%2==0,nums))     # function ,itereation\n",
    "print(evens)\n",
    " "
   ]
  },
  {
   "cell_type": "code",
   "execution_count": null,
   "metadata": {},
   "outputs": [],
   "source": [
    "# decoderators-------------->\n",
    "def div(a,b):\n",
    "    print(a/b)\n",
    "def smartfun(func):\n",
    "    def inner(a,b):\n",
    "        if a>b:\n",
    "            a,b=b,a\n",
    "            return func(a,b)\n",
    "    return inner\n",
    "div=smartfun(div)\n",
    "div(2,4)\n",
    "\n",
    "\n",
    "XXXX\n"
   ]
  },
  {
   "cell_type": "code",
   "execution_count": null,
   "metadata": {},
   "outputs": [
    {
     "name": "stdout",
     "output_type": "stream",
     "text": [
      "16\n",
      "2\n"
     ]
    }
   ],
   "source": [
    "#--------- modules ------\n",
    "# debuing --- removinig bugs \n",
    "# coding ----- add bug \n",
    "\n",
    "# modules --- make it smalal parts \n",
    "\n",
    "\n",
    "#abcd\n",
    "#a b c d\n",
    "from demo import *\n",
    "a=9\n",
    "b=7\n",
    "c=add(a,b)\n",
    "print(c)\n",
    "print(sub(a,b))\n",
    "\n",
    "\n",
    "\n"
   ]
  },
  {
   "cell_type": "code",
   "execution_count": null,
   "metadata": {},
   "outputs": [
    {
     "name": "stdout",
     "output_type": "stream",
     "text": [
      "Hello\n"
     ]
    }
   ],
   "source": [
    "# SPECIAL VARIABLES\n",
    "\n",
    "\n",
    "\n"
   ]
  },
  {
   "cell_type": "code",
   "execution_count": null,
   "metadata": {},
   "outputs": [],
   "source": [
    "#--  OBJECT ORIENTED PROGRAMMING\n",
    "#-- FUNCUTIONAL PROGRAMMING\n",
    "#-- PROCEDURE PROGRAMMING\n",
    "#  --- OBJECT  EX MAN , EMPLOYEE\n",
    "#  --- ATTRIBUTE EX HEIGHT, COMANY \n",
    "# --  BEHAVIOUR EX I'M DANCING , ACTIONS DEFINE YOUR BEHAVIOUR\n",
    "# --- METHODS --- IN OOP FUNCTIONS IS CALLED METHODS \n",
    "# CENCEPT \n",
    "# 1 CLASSES \n",
    "# ---- OBJECT \n",
    "# ------- ENCAPSULATION\n",
    "#------------ POLYMORPHISM\n",
    "#-------------------ABSTRCTION\n"
   ]
  },
  {
   "cell_type": "code",
   "execution_count": null,
   "metadata": {},
   "outputs": [
    {
     "name": "stdout",
     "output_type": "stream",
     "text": [
      " i5 ,16gb ,1tb\n",
      " i5 ,16gb ,1tb\n"
     ]
    }
   ],
   "source": [
    "# class  is design object is real\n",
    "#  object\n",
    "class computer :\n",
    "    def config(self):\n",
    "        print(\" i5 ,16gb ,1tb\") \n",
    "comp=computer()\n",
    "comp.config()\n",
    "a=computer()\n",
    "a.config()"
   ]
  },
  {
   "cell_type": "code",
   "execution_count": null,
   "metadata": {},
   "outputs": [
    {
     "name": "stdout",
     "output_type": "stream",
     "text": [
      " it is init it print on the object\n",
      " i5 ,16gb ,1tb\n",
      " it is init it print on the object\n",
      " i5 ,16gb ,1tb\n"
     ]
    }
   ],
   "source": [
    "# ___init__ method \n",
    "class computer :\n",
    "    def __init__(self):  # init method don't need to call\n",
    "        print(\" it is init it print on the object\")\n",
    "        \n",
    "    def config(self):\n",
    "        print(\" i5 ,16gb ,1tb\") \n",
    "comp=computer()\n",
    "comp.config()\n",
    "a=computer()\n",
    "a.config()\n"
   ]
  },
  {
   "cell_type": "code",
   "execution_count": null,
   "metadata": {},
   "outputs": [],
   "source": []
  },
  {
   "cell_type": "code",
   "execution_count": null,
   "metadata": {},
   "outputs": [],
   "source": []
  },
  {
   "cell_type": "code",
   "execution_count": null,
   "metadata": {},
   "outputs": [],
   "source": []
  },
  {
   "cell_type": "code",
   "execution_count": null,
   "metadata": {},
   "outputs": [
    {
     "name": "stdout",
     "output_type": "stream",
     "text": [
      "Config is  i5 16\n",
      "Config is  Ryzen 8\n"
     ]
    }
   ],
   "source": [
    "# init with passing arguments\n",
    "class computer :\n",
    "    def __init__(self,cpu,ram):  # init method don't need to call\n",
    "        self.cpu=cpu\n",
    "        self.ram=ram\n",
    "        \n",
    "    def config(self):\n",
    "        print(\"Config is \",self.cpu, self.ram) \n",
    "comp=computer('i5',16)\n",
    "comp.config()\n"
   ]
  },
  {
   "cell_type": "code",
   "execution_count": null,
   "metadata": {},
   "outputs": [
    {
     "name": "stdout",
     "output_type": "stream",
     "text": [
      "Book name is 32 and number is\n"
     ]
    }
   ],
   "source": [
    "class library:\n",
    "    def __init__(self,bno,bname):\n",
    "        self.bno=bno\n",
    "        self.bname=bname\n",
    "    def status_of_book(self):\n",
    "        print(\"Book name is {} and number is\".format(self.bname,self.bno))\n",
    "book=library(\" Rich Dad & Poor Dad\",32)\n",
    "book.status_of_book()"
   ]
  },
  {
   "cell_type": "code",
   "execution_count": 3,
   "metadata": {},
   "outputs": [
    {
     "name": "stdout",
     "output_type": "stream",
     "text": [
      "1 2 3 4 5 6 7 8 9 10 "
     ]
    }
   ],
   "source": [
    "for i in range(1,11):\n",
    "    print(i,end=\"\")"
   ]
  },
  {
   "cell_type": "code",
   "execution_count": null,
   "metadata": {},
   "outputs": [],
   "source": []
  },
  {
   "cell_type": "code",
   "execution_count": null,
   "metadata": {},
   "outputs": [],
   "source": []
  },
  {
   "cell_type": "code",
   "execution_count": null,
   "metadata": {},
   "outputs": [],
   "source": []
  },
  {
   "cell_type": "code",
   "execution_count": null,
   "metadata": {},
   "outputs": [],
   "source": []
  },
  {
   "cell_type": "code",
   "execution_count": null,
   "metadata": {},
   "outputs": [],
   "source": []
  },
  {
   "cell_type": "code",
   "execution_count": null,
   "metadata": {},
   "outputs": [],
   "source": []
  },
  {
   "cell_type": "code",
   "execution_count": null,
   "metadata": {},
   "outputs": [],
   "source": []
  }
 ],
 "metadata": {
  "interpreter": {
   "hash": "9bf2ca0f4a7adc3ce2f237ca763c1538d3ef289a4e7face3612a01cdae9f6807"
  },
  "kernelspec": {
   "display_name": "Python 3.10.1 64-bit",
   "language": "python",
   "name": "python3"
  },
  "language_info": {
   "codemirror_mode": {
    "name": "ipython",
    "version": 3
   },
   "file_extension": ".py",
   "mimetype": "text/x-python",
   "name": "python",
   "nbconvert_exporter": "python",
   "pygments_lexer": "ipython3",
   "version": "3.10.1"
  },
  "orig_nbformat": 4
 },
 "nbformat": 4,
 "nbformat_minor": 2
}
